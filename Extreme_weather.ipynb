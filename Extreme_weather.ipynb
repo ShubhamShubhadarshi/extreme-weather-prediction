{
 "cells": [
  {
   "cell_type": "code",
   "execution_count": 2,
   "metadata": {},
   "outputs": [],
   "source": [
    "import matplotlib.pyplot as plt\n",
    "import numpy as np\n",
    "from scipy.stats import genextreme as gev\n",
    "import netCDF4 as nc\n",
    "import copy\n",
    "import pandas as pd\n",
    "from scipy.cluster.vq import whiten, kmeans, vq, kmeans2"
   ]
  },
  {
   "cell_type": "code",
   "execution_count": 2,
   "metadata": {},
   "outputs": [],
   "source": [
    "#Data Source\n",
    "url = \"https://cds.climate.copernicus.eu/cdsapp#!/dataset/insitu-gridded-observations-global-and-regional?tab=overview\""
   ]
  },
  {
   "cell_type": "code",
   "execution_count": 3,
   "metadata": {},
   "outputs": [],
   "source": [
    "#Importing data from NC file\n",
    "max_temp_nc = 'C:/Users/Shubham/Desktop/Machine Learning and Applications/ML for Earth Sciences/dataset/CRU_maximum_temperature_mon_1x1_global_2019_v4.03.nc'\n",
    "min_temp_nc = 'C:/Users/Shubham/Desktop/Machine Learning and Applications/ML for Earth Sciences/dataset/CRU_minimum_temperature_mon_1x1_global_2019_v4.03.nc'\n",
    "max_prec_nc = 'C:/Users/Shubham/Desktop/Machine Learning and Applications/ML for Earth Sciences/dataset/CRU_total_precipitation_mon_1x1_global_1951_v4.03.nc'\n"
   ]
  },
  {
   "cell_type": "code",
   "execution_count": 4,
   "metadata": {},
   "outputs": [],
   "source": [
    "#Getting variables in NC files\n",
    "ds1 = nc.Dataset(max_temp_nc)\n",
    "ds2 = nc.Dataset(min_temp_nc)\n",
    "ds3 = nc.Dataset(max_prec_nc)\n"
   ]
  },
  {
   "cell_type": "code",
   "execution_count": 5,
   "metadata": {},
   "outputs": [
    {
     "name": "stdout",
     "output_type": "stream",
     "text": [
      "<class 'netCDF4._netCDF4.Variable'>\n",
      "float32 time(time)\n",
      "    standard_name: time\n",
      "    long_name: time\n",
      "    units: days since 1901-01-01 00:00:00\n",
      "    calendar: gregorian\n",
      "    axis: T\n",
      "unlimited dimensions: time\n",
      "current shape = (12,)\n",
      "filling on, default _FillValue of 9.969209968386869e+36 used\n",
      "<class 'netCDF4._netCDF4.Variable'>\n",
      "float32 lon(lon)\n",
      "    standard_name: longitude\n",
      "    long_name: Longitude\n",
      "    units: degrees_east\n",
      "    axis: X\n",
      "unlimited dimensions: \n",
      "current shape = (360,)\n",
      "filling on, default _FillValue of 9.969209968386869e+36 used\n",
      "<class 'netCDF4._netCDF4.Variable'>\n",
      "float32 lat(lat)\n",
      "    standard_name: latitude\n",
      "    long_name: Latitude\n",
      "    units: degrees_north\n",
      "    axis: Y\n",
      "unlimited dimensions: \n",
      "current shape = (180,)\n",
      "filling on, default _FillValue of 9.969209968386869e+36 used\n",
      "<class 'netCDF4._netCDF4.Variable'>\n",
      "float32 tasmax(time, lat, lon)\n",
      "    standard_name: air_temperature\n",
      "    long_name: maximum monthly near-surface temperature\n",
      "    units: degrees Celsius\n",
      "    _FillValue: 3e+33\n",
      "    missing_value: 3e+33\n",
      "unlimited dimensions: time\n",
      "current shape = (12, 180, 360)\n",
      "filling on\n",
      "<class 'netCDF4._netCDF4.Variable'>\n",
      "float32 time(time)\n",
      "    standard_name: time\n",
      "    long_name: time\n",
      "    units: days since 1901-01-01 00:00:00\n",
      "    calendar: gregorian\n",
      "    axis: T\n",
      "unlimited dimensions: time\n",
      "current shape = (12,)\n",
      "filling on, default _FillValue of 9.969209968386869e+36 used\n",
      "<class 'netCDF4._netCDF4.Variable'>\n",
      "float32 lon(lon)\n",
      "    standard_name: longitude\n",
      "    long_name: Longitude\n",
      "    units: degrees_east\n",
      "    axis: X\n",
      "unlimited dimensions: \n",
      "current shape = (360,)\n",
      "filling on, default _FillValue of 9.969209968386869e+36 used\n",
      "<class 'netCDF4._netCDF4.Variable'>\n",
      "float32 lat(lat)\n",
      "    standard_name: latitude\n",
      "    long_name: Latitude\n",
      "    units: degrees_north\n",
      "    axis: Y\n",
      "unlimited dimensions: \n",
      "current shape = (180,)\n",
      "filling on, default _FillValue of 9.969209968386869e+36 used\n",
      "<class 'netCDF4._netCDF4.Variable'>\n",
      "float32 tasmin(time, lat, lon)\n",
      "    standard_name: air_temperature\n",
      "    long_name: minimum monthly near-surface temperature\n",
      "    units: degrees Celsius\n",
      "    _FillValue: 3e+33\n",
      "    missing_value: 3e+33\n",
      "unlimited dimensions: time\n",
      "current shape = (12, 180, 360)\n",
      "filling on\n",
      "<class 'netCDF4._netCDF4.Variable'>\n",
      "float32 time(time)\n",
      "    standard_name: time\n",
      "    long_name: time\n",
      "    units: days since 1901-01-01 00:00:00\n",
      "    calendar: gregorian\n",
      "    axis: T\n",
      "unlimited dimensions: time\n",
      "current shape = (12,)\n",
      "filling on, default _FillValue of 9.969209968386869e+36 used\n",
      "<class 'netCDF4._netCDF4.Variable'>\n",
      "float32 lon(lon)\n",
      "    standard_name: longitude\n",
      "    long_name: Longitude\n",
      "    units: degrees_east\n",
      "    axis: X\n",
      "unlimited dimensions: \n",
      "current shape = (360,)\n",
      "filling on, default _FillValue of 9.969209968386869e+36 used\n",
      "<class 'netCDF4._netCDF4.Variable'>\n",
      "float32 lat(lat)\n",
      "    standard_name: latitude\n",
      "    long_name: Latitude\n",
      "    units: degrees_north\n",
      "    axis: Y\n",
      "unlimited dimensions: \n",
      "current shape = (180,)\n",
      "filling on, default _FillValue of 9.969209968386869e+36 used\n",
      "<class 'netCDF4._netCDF4.Variable'>\n",
      "float32 pr(time, lat, lon)\n",
      "    standard_name: lwe_precipitation_rate\n",
      "    long_name: total monthly precipitation\n",
      "    units: mm/month\n",
      "    _FillValue: 3e+33\n",
      "    missing_value: 3e+33\n",
      "unlimited dimensions: time\n",
      "current shape = (12, 180, 360)\n",
      "filling on\n"
     ]
    }
   ],
   "source": [
    "#Getting names of the variables\n",
    "for dim in ds1.variables.values():\n",
    "    print(dim)\n",
    "    \n",
    "for dim in ds2.variables.values():\n",
    "    print(dim)\n",
    "    \n",
    "for dim in ds3.variables.values():\n",
    "    print(dim)\n",
    "    "
   ]
  },
  {
   "cell_type": "code",
   "execution_count": 7,
   "metadata": {},
   "outputs": [],
   "source": [
    "#Getting all data from 1950 to 2019\n",
    "#creating file names\n",
    "start_max_temp = max_temp_nc[:128]\n",
    "end_max_temp = max_temp_nc[132:]\n",
    "\n",
    "start_min_temp = min_temp_nc[:128]\n",
    "end_min_temp = min_temp_nc[132:]\n",
    "\n",
    "start_max_prec = max_prec_nc[:128]\n",
    "end_max_prec = max_prec_nc[132:]\n",
    "\n",
    "#Empty list to store data\n",
    "max_temp_all = []\n",
    "min_temp_all = []\n",
    "max_prec_all = []\n",
    "\n",
    "for year in range(1950, 2020):\n",
    "    fn1=start_max_temp+str(year)+end_max_temp\n",
    "    ds1=nc.Dataset(fn1)\n",
    "    fn2=start_min_temp+str(year)+end_min_temp\n",
    "    ds2=nc.Dataset(fn2)\n",
    "    fn3=start_max_prec+str(year)+end_max_prec\n",
    "    ds3=nc.Dataset(fn3)\n",
    "    #unmasking values\n",
    "    for k in ds1.variables:\n",
    "        ds1.variables[k].set_auto_mask(False)\n",
    "    for k in ds2.variables:\n",
    "        ds2.variables[k].set_auto_mask(False)\n",
    "    for k in ds3.variables:\n",
    "        ds3.variables[k].set_auto_mask(False)\n",
    "    #getting monthly extremes \n",
    "    x1 = np.array(ds1['tasmax'])\n",
    "    x2 = np.array(ds2['tasmin'])\n",
    "    x3 = np.array(ds3['pr'])\n",
    "    #Getting annual extremes\n",
    "    max_temp = np.max(x1, axis=0)\n",
    "    min_temp = np.min(x2, axis=0)\n",
    "    max_prec = np.max(x3, axis=0)\n",
    "    #appending values\n",
    "    max_temp_all.append(max_temp)\n",
    "    min_temp_all.append(min_temp)\n",
    "    max_prec_all.append(max_prec)"
   ]
  },
  {
   "cell_type": "code",
   "execution_count": 8,
   "metadata": {},
   "outputs": [],
   "source": [
    "#converting the lists to numpy array\n",
    "max_temp_all = np.array(max_temp_all)\n",
    "min_temp_all = np.array(min_temp_all)\n",
    "max_prec_all = np.array(max_prec_all)"
   ]
  },
  {
   "cell_type": "code",
   "execution_count": 11,
   "metadata": {},
   "outputs": [
    {
     "name": "stderr",
     "output_type": "stream",
     "text": [
      "C:\\Users\\Shubham\\AppData\\Local\\Temp\\ipykernel_7404\\2043551325.py:15: RuntimeWarning: divide by zero encountered in true_divide\n",
      "  rp_max_temp = 1/(1-cdf1)\n",
      "C:\\Users\\Shubham\\AppData\\Local\\Temp\\ipykernel_7404\\2043551325.py:17: RuntimeWarning: divide by zero encountered in true_divide\n",
      "  rp_max_prec = 1/(1-cdf3)\n",
      "c:\\Users\\Shubham\\anaconda3\\lib\\site-packages\\scipy\\stats\\_continuous_distns.py:2666: RuntimeWarning: invalid value encountered in subtract\n",
      "  -pex2+logpex2-logex2)\n",
      "C:\\Users\\Shubham\\AppData\\Local\\Temp\\ipykernel_7404\\2043551325.py:16: RuntimeWarning: divide by zero encountered in true_divide\n",
      "  rp_min_temp = 1/cdf2\n",
      "c:\\Users\\Shubham\\anaconda3\\lib\\site-packages\\scipy\\stats\\_continuous_distns.py:2666: RuntimeWarning: invalid value encountered in add\n",
      "  -pex2+logpex2-logex2)\n"
     ]
    }
   ],
   "source": [
    "#Calculating return period using GEV and CDF\n",
    "return_period_max_temp=[]\n",
    "return_period_min_temp=[]\n",
    "return_period_max_prec=[]\n",
    "\n",
    "#1950-1999 data to fit the GEV distribution\n",
    "for lat in range(180):\n",
    "    for lon in range(360):\n",
    "        params1 = gev.fit(max_temp_all[:50, lat, lon])\n",
    "        params2 = gev.fit(min_temp_all[:50, lat, lon])\n",
    "        params3 = gev.fit(max_prec_all[:50, lat, lon])\n",
    "        cdf1 = gev.cdf(max_temp_all[50:, lat, lon], params1[2], params1[0], params1[1])\n",
    "        cdf2 = gev.cdf(min_temp_all[50:, lat, lon], params2[2], params2[0], params2[1])\n",
    "        cdf3 = gev.cdf(max_prec_all[50:, lat, lon], params3[2], params3[0], params3[1])\n",
    "        rp_max_temp = 1/(1-cdf1)\n",
    "        rp_min_temp = 1/cdf2\n",
    "        rp_max_prec = 1/(1-cdf3)\n",
    "        return_period_max_temp.append(rp_max_temp)\n",
    "        return_period_min_temp.append(rp_min_temp)\n",
    "        return_period_max_prec.append(rp_max_prec)"
   ]
  },
  {
   "cell_type": "code",
   "execution_count": 12,
   "metadata": {},
   "outputs": [],
   "source": [
    "#copying and reshaping the data\n",
    "rp_tmax = np.array(copy.deepcopy(return_period_max_temp))\n",
    "rp_tmin = np.array(copy.deepcopy(return_period_min_temp))\n",
    "rp_pmax = np.array(copy.deepcopy(return_period_max_prec))\n",
    "\n",
    "rp_tmax = rp_tmax.reshape((180,360,20))\n",
    "rp_tmin = rp_tmin.reshape((180,360,20))\n",
    "rp_pmax = rp_pmax.reshape((180,360,20))"
   ]
  },
  {
   "cell_type": "code",
   "execution_count": 13,
   "metadata": {},
   "outputs": [],
   "source": [
    "#Calculating mean return period of each grid cell for 20 years\n",
    "mean_rp_tmax = np.mean(rp_tmax, axis=2)\n",
    "mean_rp_tmin = np.mean(rp_tmin, axis=2)\n",
    "mean_rp_pmax = np.mean(rp_pmax, axis=2)"
   ]
  },
  {
   "cell_type": "code",
   "execution_count": 73,
   "metadata": {},
   "outputs": [],
   "source": [
    "#creating a dataframe to store the data\n",
    "df_rp = pd.DataFrame(np.array([mean_rp_tmax.flatten(),mean_rp_tmin.flatten(),mean_rp_pmax.flatten()]).T,columns=['tmax', 'tmin', 'pr'])\n",
    "df_rp.fillna(0, inplace=True)\n",
    "df_rp.replace(np.inf, 0, inplace=True)"
   ]
  },
  {
   "cell_type": "code",
   "execution_count": 74,
   "metadata": {},
   "outputs": [
    {
     "name": "stdout",
     "output_type": "stream",
     "text": [
      "<class 'pandas.core.frame.DataFrame'>\n",
      "RangeIndex: 64800 entries, 0 to 64799\n",
      "Data columns (total 3 columns):\n",
      " #   Column  Non-Null Count  Dtype  \n",
      "---  ------  --------------  -----  \n",
      " 0   tmax    64800 non-null  float64\n",
      " 1   tmin    64800 non-null  float64\n",
      " 2   pr      64800 non-null  float64\n",
      "dtypes: float64(3)\n",
      "memory usage: 1.5 MB\n"
     ]
    }
   ],
   "source": [
    "df_rp.info()"
   ]
  },
  {
   "cell_type": "code",
   "execution_count": 81,
   "metadata": {},
   "outputs": [
    {
     "name": "stderr",
     "output_type": "stream",
     "text": [
      "c:\\Users\\Shubham\\anaconda3\\lib\\site-packages\\numpy\\core\\_methods.py:235: RuntimeWarning: overflow encountered in multiply\n",
      "  x = um.multiply(x, x, out=x)\n",
      "c:\\Users\\Shubham\\anaconda3\\lib\\site-packages\\scipy\\cluster\\vq.py:574: UserWarning: One of the clusters is empty. Re-run kmeans with a different initialization.\n",
      "  warnings.warn(\"One of the clusters is empty. \"\n"
     ]
    }
   ],
   "source": [
    "#Clustering the data using k-means\n",
    "data = whiten(df_rp)\n",
    "centroids, clusters = kmeans2(data, 10, iter=30, minit='points')"
   ]
  },
  {
   "cell_type": "code",
   "execution_count": 82,
   "metadata": {},
   "outputs": [],
   "source": [
    "df_rp['cluster'] = clusters"
   ]
  },
  {
   "cell_type": "code",
   "execution_count": 90,
   "metadata": {},
   "outputs": [
    {
     "data": {
      "text/plain": [
       "4    57268\n",
       "3     6561\n",
       "2      838\n",
       "1      107\n",
       "0       26\n",
       "Name: cluster, dtype: int64"
      ]
     },
     "execution_count": 90,
     "metadata": {},
     "output_type": "execute_result"
    }
   ],
   "source": [
    "df_rp['cluster'].value_counts()"
   ]
  },
  {
   "cell_type": "code",
   "execution_count": 11,
   "metadata": {},
   "outputs": [],
   "source": [
    "# #Calculating frequency of return periods when it is more than 20 years during 2000-2019 for all three parameters\n",
    "# data1 = np.random.random((180,360))\n",
    "# data2 = np.random.random((180,360))\n",
    "# data3 = np.random.random((180,360))\n",
    "# for i in range(180):\n",
    "#     for j in range(360):\n",
    "#         data1[i][j]=len(np.where(rp_tmax[i][j]>=20)[0])\n",
    "#         data2[i][j]=len(np.where(rp_tmin[i][j]>=20)[0])\n",
    "#         data3[i][j]=len(np.where(rp_pmax[i][j]>=20)[0])"
   ]
  },
  {
   "cell_type": "code",
   "execution_count": 92,
   "metadata": {},
   "outputs": [
    {
     "name": "stderr",
     "output_type": "stream",
     "text": [
      "C:\\Users\\Shubham\\AppData\\Local\\Temp\\ipykernel_7404\\832493433.py:7: MatplotlibDeprecationWarning: Calling add_axes() without argument is deprecated since 3.3 and will be removed two minor releases later. You may want to use add_subplot() instead.\n",
      "  pixel_plot.add_axes()\n"
     ]
    },
    {
     "data": {
      "image/png": "[encoded data removed]",
      "text/plain": [
       "<Figure size 2592x1296 with 2 Axes>"
      ]
     },
     "metadata": {
      "needs_background": "light"
     },
     "output_type": "display_data"
    },
    {
     "data": {
      "text/plain": [
       "<Figure size 432x288 with 0 Axes>"
      ]
     },
     "metadata": {},
     "output_type": "display_data"
    }
   ],
   "source": [
    "#ploting the data on map\n",
    "pixel_plot = plt.figure()\n",
    "pixel_plot.set_figwidth(36)\n",
    "pixel_plot.set_figheight(18)\n",
    "  \n",
    "# plotting a plot\n",
    "pixel_plot.add_axes()\n",
    "  \n",
    "# customizing plot\n",
    "plt.title(\"Extreme Weather Events\")\n",
    "pixel_plot = plt.imshow(np.array(df_rp['cluster']).reshape((180,360)), origin='lower')\n",
    "  \n",
    "plt.colorbar(pixel_plot)\n",
    "plt.legend(['Extreme Weather Events', 'Normal Weather Events'])\n",
    "plt.show()\n",
    "  \n",
    "#save a plot\n",
    "plt.savefig('max_temp.png')\n",
    "  \n",
    "# show plot\n",
    "plt.show(pixel_plot)"
   ]
  },
  {
   "cell_type": "code",
   "execution_count": null,
   "metadata": {},
   "outputs": [],
   "source": []
  }
 ],
 "metadata": {
  "kernelspec": {
   "display_name": "Python 3.8.5 ('base')",
   "language": "python",
   "name": "python3"
  },
  "language_info": {
   "codemirror_mode": {
    "name": "ipython",
    "version": 3
   },
   "file_extension": ".py",
   "mimetype": "text/x-python",
   "name": "python",
   "nbconvert_exporter": "python",
   "pygments_lexer": "ipython3",
   "version": "3.8.5"
  },
  "vscode": {
   "interpreter": {
    "hash": "53904ecea62d4a83cb08debf5b9094b61f3e5928575f91e75e2050aac18a93a2"
   }
  }
 },
 "nbformat": 4,
 "nbformat_minor": 4
}
